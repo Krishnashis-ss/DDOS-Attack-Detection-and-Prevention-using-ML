{
 "cells": [
  {
   "cell_type": "markdown",
   "id": "8cf5a75a",
   "metadata": {},
   "source": [
    "### Import Essential Modules"
   ]
  },
  {
   "cell_type": "code",
   "execution_count": 1,
   "id": "857a36ed",
   "metadata": {},
   "outputs": [],
   "source": [
    "import pandas as pd\n",
    "import numpy as np\n",
    "import seaborn as sns\n",
    "import matplotlib.pyplot as plt\n",
    "import missingno as msno\n",
    "from sklearn import preprocessing\n",
    "from sklearn.preprocessing import MinMaxScaler\n",
    "from sklearn.model_selection import train_test_split\n",
    "from sklearn import metrics\n",
    "from sklearn.model_selection import cross_val_score\n",
    "from sklearn.metrics import classification_report,confusion_matrix\n",
    "from sklearn.model_selection import RandomizedSearchCV, GridSearchCV\n",
    "from sklearn.model_selection import StratifiedKFold\n",
    "from sklearn import tree\n",
    "from sklearn.neighbors import KNeighborsClassifier\n",
    "from sklearn.tree import DecisionTreeClassifier\n",
    "from sklearn.ensemble import RandomForestClassifier\n",
    "from sklearn.naive_bayes import GaussianNB\n",
    "from sklearn.linear_model import LogisticRegression\n",
    "from sklearn.decomposition import PCA\n",
    "from mlxtend.plotting import plot_decision_regions\n",
    "from sklearn.tree import export_graphviz\n",
    "from six import StringIO\n",
    "from IPython.display import Image\n",
    "import graphviz\n",
    "%matplotlib inline"
   ]
  },
  {
   "cell_type": "code",
   "execution_count": 2,
   "id": "59616903",
   "metadata": {},
   "outputs": [
    {
     "data": {
      "text/html": [
       "<div>\n",
       "<style scoped>\n",
       "    .dataframe tbody tr th:only-of-type {\n",
       "        vertical-align: middle;\n",
       "    }\n",
       "\n",
       "    .dataframe tbody tr th {\n",
       "        vertical-align: top;\n",
       "    }\n",
       "\n",
       "    .dataframe thead th {\n",
       "        text-align: right;\n",
       "    }\n",
       "</style>\n",
       "<table border=\"1\" class=\"dataframe\">\n",
       "  <thead>\n",
       "    <tr style=\"text-align: right;\">\n",
       "      <th></th>\n",
       "      <th>timestamp</th>\n",
       "      <th>datapath_id</th>\n",
       "      <th>flow_id</th>\n",
       "      <th>ip_src</th>\n",
       "      <th>tp_src</th>\n",
       "      <th>ip_dst</th>\n",
       "      <th>tp_dst</th>\n",
       "      <th>ip_proto</th>\n",
       "      <th>icmp_code</th>\n",
       "      <th>icmp_type</th>\n",
       "      <th>...</th>\n",
       "      <th>idle_timeout</th>\n",
       "      <th>hard_timeout</th>\n",
       "      <th>flags</th>\n",
       "      <th>packet_count</th>\n",
       "      <th>byte_count</th>\n",
       "      <th>packet_count_per_second</th>\n",
       "      <th>packet_count_per_nsecond</th>\n",
       "      <th>byte_count_per_second</th>\n",
       "      <th>byte_count_per_nsecond</th>\n",
       "      <th>label</th>\n",
       "    </tr>\n",
       "  </thead>\n",
       "  <tbody>\n",
       "    <tr>\n",
       "      <th>0</th>\n",
       "      <td>1.589933e+09</td>\n",
       "      <td>1</td>\n",
       "      <td>10.0.0.1505010.0.0.3542466</td>\n",
       "      <td>10.0.0.1</td>\n",
       "      <td>5050</td>\n",
       "      <td>10.0.0.3</td>\n",
       "      <td>54246</td>\n",
       "      <td>6</td>\n",
       "      <td>-1</td>\n",
       "      <td>-1</td>\n",
       "      <td>...</td>\n",
       "      <td>20</td>\n",
       "      <td>100</td>\n",
       "      <td>0</td>\n",
       "      <td>50776</td>\n",
       "      <td>3351216</td>\n",
       "      <td>12694.000000</td>\n",
       "      <td>1.057833e-04</td>\n",
       "      <td>8.378040e+05</td>\n",
       "      <td>6.981700e-03</td>\n",
       "      <td>0</td>\n",
       "    </tr>\n",
       "    <tr>\n",
       "      <th>1</th>\n",
       "      <td>1.589933e+09</td>\n",
       "      <td>1</td>\n",
       "      <td>10.0.0.35424610.0.0.150506</td>\n",
       "      <td>10.0.0.3</td>\n",
       "      <td>54246</td>\n",
       "      <td>10.0.0.1</td>\n",
       "      <td>5050</td>\n",
       "      <td>6</td>\n",
       "      <td>-1</td>\n",
       "      <td>-1</td>\n",
       "      <td>...</td>\n",
       "      <td>20</td>\n",
       "      <td>100</td>\n",
       "      <td>0</td>\n",
       "      <td>209360</td>\n",
       "      <td>11834974848</td>\n",
       "      <td>52340.000000</td>\n",
       "      <td>4.307819e-04</td>\n",
       "      <td>2.958744e+09</td>\n",
       "      <td>2.435180e+01</td>\n",
       "      <td>0</td>\n",
       "    </tr>\n",
       "    <tr>\n",
       "      <th>2</th>\n",
       "      <td>1.589933e+09</td>\n",
       "      <td>1</td>\n",
       "      <td>10.0.0.35424610.0.0.550501</td>\n",
       "      <td>10.0.0.3</td>\n",
       "      <td>54246</td>\n",
       "      <td>10.0.0.5</td>\n",
       "      <td>5050</td>\n",
       "      <td>1</td>\n",
       "      <td>0</td>\n",
       "      <td>8</td>\n",
       "      <td>...</td>\n",
       "      <td>20</td>\n",
       "      <td>100</td>\n",
       "      <td>0</td>\n",
       "      <td>3</td>\n",
       "      <td>294</td>\n",
       "      <td>0.750000</td>\n",
       "      <td>6.198347e-09</td>\n",
       "      <td>7.350000e+01</td>\n",
       "      <td>6.074380e-07</td>\n",
       "      <td>0</td>\n",
       "    </tr>\n",
       "    <tr>\n",
       "      <th>3</th>\n",
       "      <td>1.589933e+09</td>\n",
       "      <td>1</td>\n",
       "      <td>10.0.0.55424610.0.0.350501</td>\n",
       "      <td>10.0.0.5</td>\n",
       "      <td>54246</td>\n",
       "      <td>10.0.0.3</td>\n",
       "      <td>5050</td>\n",
       "      <td>1</td>\n",
       "      <td>0</td>\n",
       "      <td>0</td>\n",
       "      <td>...</td>\n",
       "      <td>20</td>\n",
       "      <td>100</td>\n",
       "      <td>0</td>\n",
       "      <td>3</td>\n",
       "      <td>294</td>\n",
       "      <td>0.750000</td>\n",
       "      <td>7.228916e-09</td>\n",
       "      <td>7.350000e+01</td>\n",
       "      <td>7.084337e-07</td>\n",
       "      <td>0</td>\n",
       "    </tr>\n",
       "    <tr>\n",
       "      <th>4</th>\n",
       "      <td>1.589933e+09</td>\n",
       "      <td>2</td>\n",
       "      <td>10.0.0.3010.0.0.501</td>\n",
       "      <td>10.0.0.3</td>\n",
       "      <td>0</td>\n",
       "      <td>10.0.0.5</td>\n",
       "      <td>0</td>\n",
       "      <td>1</td>\n",
       "      <td>0</td>\n",
       "      <td>8</td>\n",
       "      <td>...</td>\n",
       "      <td>20</td>\n",
       "      <td>100</td>\n",
       "      <td>0</td>\n",
       "      <td>3</td>\n",
       "      <td>294</td>\n",
       "      <td>0.750000</td>\n",
       "      <td>7.092199e-09</td>\n",
       "      <td>7.350000e+01</td>\n",
       "      <td>6.950355e-07</td>\n",
       "      <td>0</td>\n",
       "    </tr>\n",
       "    <tr>\n",
       "      <th>5</th>\n",
       "      <td>1.589933e+09</td>\n",
       "      <td>2</td>\n",
       "      <td>10.0.0.5010.0.0.301</td>\n",
       "      <td>10.0.0.5</td>\n",
       "      <td>0</td>\n",
       "      <td>10.0.0.3</td>\n",
       "      <td>0</td>\n",
       "      <td>1</td>\n",
       "      <td>0</td>\n",
       "      <td>0</td>\n",
       "      <td>...</td>\n",
       "      <td>20</td>\n",
       "      <td>100</td>\n",
       "      <td>0</td>\n",
       "      <td>3</td>\n",
       "      <td>294</td>\n",
       "      <td>0.750000</td>\n",
       "      <td>7.194245e-09</td>\n",
       "      <td>7.350000e+01</td>\n",
       "      <td>7.050360e-07</td>\n",
       "      <td>0</td>\n",
       "    </tr>\n",
       "    <tr>\n",
       "      <th>6</th>\n",
       "      <td>1.589933e+09</td>\n",
       "      <td>2</td>\n",
       "      <td>10.0.0.3010.0.0.501</td>\n",
       "      <td>10.0.0.3</td>\n",
       "      <td>0</td>\n",
       "      <td>10.0.0.5</td>\n",
       "      <td>0</td>\n",
       "      <td>1</td>\n",
       "      <td>0</td>\n",
       "      <td>8</td>\n",
       "      <td>...</td>\n",
       "      <td>20</td>\n",
       "      <td>100</td>\n",
       "      <td>0</td>\n",
       "      <td>13</td>\n",
       "      <td>1274</td>\n",
       "      <td>0.928571</td>\n",
       "      <td>3.030303e-08</td>\n",
       "      <td>9.100000e+01</td>\n",
       "      <td>2.969697e-06</td>\n",
       "      <td>0</td>\n",
       "    </tr>\n",
       "    <tr>\n",
       "      <th>7</th>\n",
       "      <td>1.589933e+09</td>\n",
       "      <td>2</td>\n",
       "      <td>10.0.0.5010.0.0.301</td>\n",
       "      <td>10.0.0.5</td>\n",
       "      <td>0</td>\n",
       "      <td>10.0.0.3</td>\n",
       "      <td>0</td>\n",
       "      <td>1</td>\n",
       "      <td>0</td>\n",
       "      <td>0</td>\n",
       "      <td>...</td>\n",
       "      <td>20</td>\n",
       "      <td>100</td>\n",
       "      <td>0</td>\n",
       "      <td>13</td>\n",
       "      <td>1274</td>\n",
       "      <td>0.928571</td>\n",
       "      <td>3.073286e-08</td>\n",
       "      <td>9.100000e+01</td>\n",
       "      <td>3.011820e-06</td>\n",
       "      <td>0</td>\n",
       "    </tr>\n",
       "    <tr>\n",
       "      <th>8</th>\n",
       "      <td>1.589933e+09</td>\n",
       "      <td>1</td>\n",
       "      <td>10.0.0.1505010.0.0.3542466</td>\n",
       "      <td>10.0.0.1</td>\n",
       "      <td>5050</td>\n",
       "      <td>10.0.0.3</td>\n",
       "      <td>54246</td>\n",
       "      <td>6</td>\n",
       "      <td>-1</td>\n",
       "      <td>-1</td>\n",
       "      <td>...</td>\n",
       "      <td>20</td>\n",
       "      <td>100</td>\n",
       "      <td>0</td>\n",
       "      <td>139454</td>\n",
       "      <td>9203964</td>\n",
       "      <td>9961.000000</td>\n",
       "      <td>2.869424e-04</td>\n",
       "      <td>6.574260e+05</td>\n",
       "      <td>1.893820e-02</td>\n",
       "      <td>0</td>\n",
       "    </tr>\n",
       "    <tr>\n",
       "      <th>9</th>\n",
       "      <td>1.589933e+09</td>\n",
       "      <td>1</td>\n",
       "      <td>10.0.0.35424610.0.0.150506</td>\n",
       "      <td>10.0.0.3</td>\n",
       "      <td>54246</td>\n",
       "      <td>10.0.0.1</td>\n",
       "      <td>5050</td>\n",
       "      <td>6</td>\n",
       "      <td>-1</td>\n",
       "      <td>-1</td>\n",
       "      <td>...</td>\n",
       "      <td>20</td>\n",
       "      <td>100</td>\n",
       "      <td>0</td>\n",
       "      <td>596064</td>\n",
       "      <td>33916209400</td>\n",
       "      <td>42576.000000</td>\n",
       "      <td>1.211512e-03</td>\n",
       "      <td>2.422586e+09</td>\n",
       "      <td>6.893538e+01</td>\n",
       "      <td>0</td>\n",
       "    </tr>\n",
       "  </tbody>\n",
       "</table>\n",
       "<p>10 rows × 22 columns</p>\n",
       "</div>"
      ],
      "text/plain": [
       "      timestamp  datapath_id                     flow_id    ip_src  tp_src  \\\n",
       "0  1.589933e+09            1  10.0.0.1505010.0.0.3542466  10.0.0.1    5050   \n",
       "1  1.589933e+09            1  10.0.0.35424610.0.0.150506  10.0.0.3   54246   \n",
       "2  1.589933e+09            1  10.0.0.35424610.0.0.550501  10.0.0.3   54246   \n",
       "3  1.589933e+09            1  10.0.0.55424610.0.0.350501  10.0.0.5   54246   \n",
       "4  1.589933e+09            2         10.0.0.3010.0.0.501  10.0.0.3       0   \n",
       "5  1.589933e+09            2         10.0.0.5010.0.0.301  10.0.0.5       0   \n",
       "6  1.589933e+09            2         10.0.0.3010.0.0.501  10.0.0.3       0   \n",
       "7  1.589933e+09            2         10.0.0.5010.0.0.301  10.0.0.5       0   \n",
       "8  1.589933e+09            1  10.0.0.1505010.0.0.3542466  10.0.0.1    5050   \n",
       "9  1.589933e+09            1  10.0.0.35424610.0.0.150506  10.0.0.3   54246   \n",
       "\n",
       "     ip_dst  tp_dst  ip_proto  icmp_code  icmp_type  ...  idle_timeout  \\\n",
       "0  10.0.0.3   54246         6         -1         -1  ...            20   \n",
       "1  10.0.0.1    5050         6         -1         -1  ...            20   \n",
       "2  10.0.0.5    5050         1          0          8  ...            20   \n",
       "3  10.0.0.3    5050         1          0          0  ...            20   \n",
       "4  10.0.0.5       0         1          0          8  ...            20   \n",
       "5  10.0.0.3       0         1          0          0  ...            20   \n",
       "6  10.0.0.5       0         1          0          8  ...            20   \n",
       "7  10.0.0.3       0         1          0          0  ...            20   \n",
       "8  10.0.0.3   54246         6         -1         -1  ...            20   \n",
       "9  10.0.0.1    5050         6         -1         -1  ...            20   \n",
       "\n",
       "   hard_timeout  flags  packet_count   byte_count  packet_count_per_second  \\\n",
       "0           100      0         50776      3351216             12694.000000   \n",
       "1           100      0        209360  11834974848             52340.000000   \n",
       "2           100      0             3          294                 0.750000   \n",
       "3           100      0             3          294                 0.750000   \n",
       "4           100      0             3          294                 0.750000   \n",
       "5           100      0             3          294                 0.750000   \n",
       "6           100      0            13         1274                 0.928571   \n",
       "7           100      0            13         1274                 0.928571   \n",
       "8           100      0        139454      9203964              9961.000000   \n",
       "9           100      0        596064  33916209400             42576.000000   \n",
       "\n",
       "   packet_count_per_nsecond  byte_count_per_second  byte_count_per_nsecond  \\\n",
       "0              1.057833e-04           8.378040e+05            6.981700e-03   \n",
       "1              4.307819e-04           2.958744e+09            2.435180e+01   \n",
       "2              6.198347e-09           7.350000e+01            6.074380e-07   \n",
       "3              7.228916e-09           7.350000e+01            7.084337e-07   \n",
       "4              7.092199e-09           7.350000e+01            6.950355e-07   \n",
       "5              7.194245e-09           7.350000e+01            7.050360e-07   \n",
       "6              3.030303e-08           9.100000e+01            2.969697e-06   \n",
       "7              3.073286e-08           9.100000e+01            3.011820e-06   \n",
       "8              2.869424e-04           6.574260e+05            1.893820e-02   \n",
       "9              1.211512e-03           2.422586e+09            6.893538e+01   \n",
       "\n",
       "   label  \n",
       "0      0  \n",
       "1      0  \n",
       "2      0  \n",
       "3      0  \n",
       "4      0  \n",
       "5      0  \n",
       "6      0  \n",
       "7      0  \n",
       "8      0  \n",
       "9      0  \n",
       "\n",
       "[10 rows x 22 columns]"
      ]
     },
     "execution_count": 2,
     "metadata": {},
     "output_type": "execute_result"
    }
   ],
   "source": [
    "df = pd.read_csv('dataset.csv')\n",
    "df.head(10)"
   ]
  },
  {
   "cell_type": "markdown",
   "id": "1ad2fc7b",
   "metadata": {},
   "source": [
    "### Data Preprocessing"
   ]
  },
  {
   "cell_type": "markdown",
   "id": "a5ded3e3",
   "metadata": {},
   "source": [
    "#### Dataset Dimensions"
   ]
  },
  {
   "cell_type": "code",
   "execution_count": 3,
   "id": "fd04f6fc",
   "metadata": {},
   "outputs": [
    {
     "name": "stdout",
     "output_type": "stream",
     "text": [
      "This Dataset has 2667523 rows and 22 columns\n"
     ]
    }
   ],
   "source": [
    "print(\"This Dataset has {} rows and {} columns\".format(df.shape[0], df.shape[1]))"
   ]
  },
  {
   "cell_type": "markdown",
   "id": "803bea86",
   "metadata": {},
   "source": [
    "#### Concise summary of dataset"
   ]
  },
  {
   "cell_type": "code",
   "execution_count": 4,
   "id": "d131b455",
   "metadata": {},
   "outputs": [
    {
     "name": "stdout",
     "output_type": "stream",
     "text": [
      "<class 'pandas.core.frame.DataFrame'>\n",
      "RangeIndex: 2667523 entries, 0 to 2667522\n",
      "Data columns (total 22 columns):\n",
      " #   Column                    Dtype  \n",
      "---  ------                    -----  \n",
      " 0   timestamp                 float64\n",
      " 1   datapath_id               int64  \n",
      " 2   flow_id                   object \n",
      " 3   ip_src                    object \n",
      " 4   tp_src                    int64  \n",
      " 5   ip_dst                    object \n",
      " 6   tp_dst                    int64  \n",
      " 7   ip_proto                  int64  \n",
      " 8   icmp_code                 int64  \n",
      " 9   icmp_type                 int64  \n",
      " 10  flow_duration_sec         int64  \n",
      " 11  flow_duration_nsec        int64  \n",
      " 12  idle_timeout              int64  \n",
      " 13  hard_timeout              int64  \n",
      " 14  flags                     int64  \n",
      " 15  packet_count              int64  \n",
      " 16  byte_count                int64  \n",
      " 17  packet_count_per_second   float64\n",
      " 18  packet_count_per_nsecond  float64\n",
      " 19  byte_count_per_second     float64\n",
      " 20  byte_count_per_nsecond    float64\n",
      " 21  label                     int64  \n",
      "dtypes: float64(5), int64(14), object(3)\n",
      "memory usage: 447.7+ MB\n"
     ]
    }
   ],
   "source": [
    "df.info()"
   ]
  },
  {
   "cell_type": "markdown",
   "id": "34549914",
   "metadata": {},
   "source": [
    "#### Descriptive statistics of dataset"
   ]
  },
  {
   "cell_type": "code",
   "execution_count": 5,
   "id": "3c444761",
   "metadata": {},
   "outputs": [
    {
     "data": {
      "text/html": [
       "<div>\n",
       "<style scoped>\n",
       "    .dataframe tbody tr th:only-of-type {\n",
       "        vertical-align: middle;\n",
       "    }\n",
       "\n",
       "    .dataframe tbody tr th {\n",
       "        vertical-align: top;\n",
       "    }\n",
       "\n",
       "    .dataframe thead th {\n",
       "        text-align: right;\n",
       "    }\n",
       "</style>\n",
       "<table border=\"1\" class=\"dataframe\">\n",
       "  <thead>\n",
       "    <tr style=\"text-align: right;\">\n",
       "      <th></th>\n",
       "      <th>timestamp</th>\n",
       "      <th>datapath_id</th>\n",
       "      <th>tp_src</th>\n",
       "      <th>tp_dst</th>\n",
       "      <th>ip_proto</th>\n",
       "      <th>icmp_code</th>\n",
       "      <th>icmp_type</th>\n",
       "      <th>flow_duration_sec</th>\n",
       "      <th>flow_duration_nsec</th>\n",
       "      <th>idle_timeout</th>\n",
       "      <th>hard_timeout</th>\n",
       "      <th>flags</th>\n",
       "      <th>packet_count</th>\n",
       "      <th>byte_count</th>\n",
       "      <th>packet_count_per_second</th>\n",
       "      <th>packet_count_per_nsecond</th>\n",
       "      <th>byte_count_per_second</th>\n",
       "      <th>byte_count_per_nsecond</th>\n",
       "      <th>label</th>\n",
       "    </tr>\n",
       "  </thead>\n",
       "  <tbody>\n",
       "    <tr>\n",
       "      <th>count</th>\n",
       "      <td>2.667523e+06</td>\n",
       "      <td>2.667523e+06</td>\n",
       "      <td>2.667523e+06</td>\n",
       "      <td>2.667523e+06</td>\n",
       "      <td>2.667523e+06</td>\n",
       "      <td>2.667523e+06</td>\n",
       "      <td>2.667523e+06</td>\n",
       "      <td>2.667523e+06</td>\n",
       "      <td>2.667523e+06</td>\n",
       "      <td>2667523.0</td>\n",
       "      <td>2667523.0</td>\n",
       "      <td>2667523.0</td>\n",
       "      <td>2.667523e+06</td>\n",
       "      <td>2.667523e+06</td>\n",
       "      <td>2.667523e+06</td>\n",
       "      <td>2.667523e+06</td>\n",
       "      <td>2.667523e+06</td>\n",
       "      <td>2.667523e+06</td>\n",
       "      <td>2.667523e+06</td>\n",
       "    </tr>\n",
       "    <tr>\n",
       "      <th>mean</th>\n",
       "      <td>1.590023e+09</td>\n",
       "      <td>2.985793e+00</td>\n",
       "      <td>2.225254e+04</td>\n",
       "      <td>6.001862e+03</td>\n",
       "      <td>6.625404e+00</td>\n",
       "      <td>-5.473254e-01</td>\n",
       "      <td>2.118896e+00</td>\n",
       "      <td>1.592080e+01</td>\n",
       "      <td>4.967868e+08</td>\n",
       "      <td>20.0</td>\n",
       "      <td>100.0</td>\n",
       "      <td>0.0</td>\n",
       "      <td>1.805451e+04</td>\n",
       "      <td>8.310616e+08</td>\n",
       "      <td>1.473977e+03</td>\n",
       "      <td>1.353151e-04</td>\n",
       "      <td>6.752863e+07</td>\n",
       "      <td>6.277890e+00</td>\n",
       "      <td>6.600393e-01</td>\n",
       "    </tr>\n",
       "    <tr>\n",
       "      <th>std</th>\n",
       "      <td>5.401687e+04</td>\n",
       "      <td>1.513236e+00</td>\n",
       "      <td>2.209444e+04</td>\n",
       "      <td>1.506899e+04</td>\n",
       "      <td>6.059951e+00</td>\n",
       "      <td>4.977554e-01</td>\n",
       "      <td>4.169818e+00</td>\n",
       "      <td>1.947373e+01</td>\n",
       "      <td>2.900372e+08</td>\n",
       "      <td>0.0</td>\n",
       "      <td>0.0</td>\n",
       "      <td>0.0</td>\n",
       "      <td>9.358057e+04</td>\n",
       "      <td>5.172473e+09</td>\n",
       "      <td>7.735860e+03</td>\n",
       "      <td>3.785873e-03</td>\n",
       "      <td>4.286380e+08</td>\n",
       "      <td>2.104584e+02</td>\n",
       "      <td>4.736956e-01</td>\n",
       "    </tr>\n",
       "    <tr>\n",
       "      <th>min</th>\n",
       "      <td>1.589933e+09</td>\n",
       "      <td>1.000000e+00</td>\n",
       "      <td>0.000000e+00</td>\n",
       "      <td>0.000000e+00</td>\n",
       "      <td>1.000000e+00</td>\n",
       "      <td>-1.000000e+00</td>\n",
       "      <td>-1.000000e+00</td>\n",
       "      <td>0.000000e+00</td>\n",
       "      <td>0.000000e+00</td>\n",
       "      <td>20.0</td>\n",
       "      <td>100.0</td>\n",
       "      <td>0.0</td>\n",
       "      <td>0.000000e+00</td>\n",
       "      <td>0.000000e+00</td>\n",
       "      <td>0.000000e+00</td>\n",
       "      <td>0.000000e+00</td>\n",
       "      <td>0.000000e+00</td>\n",
       "      <td>0.000000e+00</td>\n",
       "      <td>0.000000e+00</td>\n",
       "    </tr>\n",
       "    <tr>\n",
       "      <th>25%</th>\n",
       "      <td>1.589963e+09</td>\n",
       "      <td>2.000000e+00</td>\n",
       "      <td>0.000000e+00</td>\n",
       "      <td>0.000000e+00</td>\n",
       "      <td>1.000000e+00</td>\n",
       "      <td>-1.000000e+00</td>\n",
       "      <td>-1.000000e+00</td>\n",
       "      <td>5.000000e+00</td>\n",
       "      <td>2.440000e+08</td>\n",
       "      <td>20.0</td>\n",
       "      <td>100.0</td>\n",
       "      <td>0.0</td>\n",
       "      <td>0.000000e+00</td>\n",
       "      <td>0.000000e+00</td>\n",
       "      <td>0.000000e+00</td>\n",
       "      <td>0.000000e+00</td>\n",
       "      <td>0.000000e+00</td>\n",
       "      <td>0.000000e+00</td>\n",
       "      <td>0.000000e+00</td>\n",
       "    </tr>\n",
       "    <tr>\n",
       "      <th>50%</th>\n",
       "      <td>1.590011e+09</td>\n",
       "      <td>3.000000e+00</td>\n",
       "      <td>1.519800e+04</td>\n",
       "      <td>8.000000e+01</td>\n",
       "      <td>6.000000e+00</td>\n",
       "      <td>-1.000000e+00</td>\n",
       "      <td>-1.000000e+00</td>\n",
       "      <td>1.100000e+01</td>\n",
       "      <td>4.950000e+08</td>\n",
       "      <td>20.0</td>\n",
       "      <td>100.0</td>\n",
       "      <td>0.0</td>\n",
       "      <td>0.000000e+00</td>\n",
       "      <td>0.000000e+00</td>\n",
       "      <td>0.000000e+00</td>\n",
       "      <td>0.000000e+00</td>\n",
       "      <td>0.000000e+00</td>\n",
       "      <td>0.000000e+00</td>\n",
       "      <td>1.000000e+00</td>\n",
       "    </tr>\n",
       "    <tr>\n",
       "      <th>75%</th>\n",
       "      <td>1.590072e+09</td>\n",
       "      <td>4.000000e+00</td>\n",
       "      <td>4.243300e+04</td>\n",
       "      <td>8.000000e+01</td>\n",
       "      <td>6.000000e+00</td>\n",
       "      <td>0.000000e+00</td>\n",
       "      <td>8.000000e+00</td>\n",
       "      <td>1.600000e+01</td>\n",
       "      <td>7.490000e+08</td>\n",
       "      <td>20.0</td>\n",
       "      <td>100.0</td>\n",
       "      <td>0.0</td>\n",
       "      <td>1.900000e+01</td>\n",
       "      <td>1.862000e+03</td>\n",
       "      <td>9.795918e-01</td>\n",
       "      <td>3.846154e-08</td>\n",
       "      <td>9.607843e+01</td>\n",
       "      <td>3.873054e-06</td>\n",
       "      <td>1.000000e+00</td>\n",
       "    </tr>\n",
       "    <tr>\n",
       "      <th>max</th>\n",
       "      <td>1.590164e+09</td>\n",
       "      <td>6.000000e+00</td>\n",
       "      <td>6.553500e+04</td>\n",
       "      <td>6.099800e+04</td>\n",
       "      <td>1.700000e+01</td>\n",
       "      <td>0.000000e+00</td>\n",
       "      <td>8.000000e+00</td>\n",
       "      <td>1.000000e+02</td>\n",
       "      <td>9.990000e+08</td>\n",
       "      <td>20.0</td>\n",
       "      <td>100.0</td>\n",
       "      <td>0.0</td>\n",
       "      <td>6.817366e+06</td>\n",
       "      <td>4.204500e+10</td>\n",
       "      <td>4.830709e+05</td>\n",
       "      <td>6.858980e-01</td>\n",
       "      <td>7.659091e+09</td>\n",
       "      <td>3.914523e+04</td>\n",
       "      <td>1.000000e+00</td>\n",
       "    </tr>\n",
       "  </tbody>\n",
       "</table>\n",
       "</div>"
      ],
      "text/plain": [
       "          timestamp   datapath_id        tp_src        tp_dst      ip_proto  \\\n",
       "count  2.667523e+06  2.667523e+06  2.667523e+06  2.667523e+06  2.667523e+06   \n",
       "mean   1.590023e+09  2.985793e+00  2.225254e+04  6.001862e+03  6.625404e+00   \n",
       "std    5.401687e+04  1.513236e+00  2.209444e+04  1.506899e+04  6.059951e+00   \n",
       "min    1.589933e+09  1.000000e+00  0.000000e+00  0.000000e+00  1.000000e+00   \n",
       "25%    1.589963e+09  2.000000e+00  0.000000e+00  0.000000e+00  1.000000e+00   \n",
       "50%    1.590011e+09  3.000000e+00  1.519800e+04  8.000000e+01  6.000000e+00   \n",
       "75%    1.590072e+09  4.000000e+00  4.243300e+04  8.000000e+01  6.000000e+00   \n",
       "max    1.590164e+09  6.000000e+00  6.553500e+04  6.099800e+04  1.700000e+01   \n",
       "\n",
       "          icmp_code     icmp_type  flow_duration_sec  flow_duration_nsec  \\\n",
       "count  2.667523e+06  2.667523e+06       2.667523e+06        2.667523e+06   \n",
       "mean  -5.473254e-01  2.118896e+00       1.592080e+01        4.967868e+08   \n",
       "std    4.977554e-01  4.169818e+00       1.947373e+01        2.900372e+08   \n",
       "min   -1.000000e+00 -1.000000e+00       0.000000e+00        0.000000e+00   \n",
       "25%   -1.000000e+00 -1.000000e+00       5.000000e+00        2.440000e+08   \n",
       "50%   -1.000000e+00 -1.000000e+00       1.100000e+01        4.950000e+08   \n",
       "75%    0.000000e+00  8.000000e+00       1.600000e+01        7.490000e+08   \n",
       "max    0.000000e+00  8.000000e+00       1.000000e+02        9.990000e+08   \n",
       "\n",
       "       idle_timeout  hard_timeout      flags  packet_count    byte_count  \\\n",
       "count     2667523.0     2667523.0  2667523.0  2.667523e+06  2.667523e+06   \n",
       "mean           20.0         100.0        0.0  1.805451e+04  8.310616e+08   \n",
       "std             0.0           0.0        0.0  9.358057e+04  5.172473e+09   \n",
       "min            20.0         100.0        0.0  0.000000e+00  0.000000e+00   \n",
       "25%            20.0         100.0        0.0  0.000000e+00  0.000000e+00   \n",
       "50%            20.0         100.0        0.0  0.000000e+00  0.000000e+00   \n",
       "75%            20.0         100.0        0.0  1.900000e+01  1.862000e+03   \n",
       "max            20.0         100.0        0.0  6.817366e+06  4.204500e+10   \n",
       "\n",
       "       packet_count_per_second  packet_count_per_nsecond  \\\n",
       "count             2.667523e+06              2.667523e+06   \n",
       "mean              1.473977e+03              1.353151e-04   \n",
       "std               7.735860e+03              3.785873e-03   \n",
       "min               0.000000e+00              0.000000e+00   \n",
       "25%               0.000000e+00              0.000000e+00   \n",
       "50%               0.000000e+00              0.000000e+00   \n",
       "75%               9.795918e-01              3.846154e-08   \n",
       "max               4.830709e+05              6.858980e-01   \n",
       "\n",
       "       byte_count_per_second  byte_count_per_nsecond         label  \n",
       "count           2.667523e+06            2.667523e+06  2.667523e+06  \n",
       "mean            6.752863e+07            6.277890e+00  6.600393e-01  \n",
       "std             4.286380e+08            2.104584e+02  4.736956e-01  \n",
       "min             0.000000e+00            0.000000e+00  0.000000e+00  \n",
       "25%             0.000000e+00            0.000000e+00  0.000000e+00  \n",
       "50%             0.000000e+00            0.000000e+00  1.000000e+00  \n",
       "75%             9.607843e+01            3.873054e-06  1.000000e+00  \n",
       "max             7.659091e+09            3.914523e+04  1.000000e+00  "
      ]
     },
     "execution_count": 5,
     "metadata": {},
     "output_type": "execute_result"
    }
   ],
   "source": [
    "df.describe()"
   ]
  },
  {
   "cell_type": "markdown",
   "id": "2a56dd87",
   "metadata": {},
   "source": [
    "#### Count of null values in each feature "
   ]
  },
  {
   "cell_type": "code",
   "execution_count": 6,
   "id": "4b169f16",
   "metadata": {},
   "outputs": [
    {
     "data": {
      "text/plain": [
       "timestamp                   0\n",
       "datapath_id                 0\n",
       "flow_id                     0\n",
       "ip_src                      0\n",
       "tp_src                      0\n",
       "ip_dst                      0\n",
       "tp_dst                      0\n",
       "ip_proto                    0\n",
       "icmp_code                   0\n",
       "icmp_type                   0\n",
       "flow_duration_sec           0\n",
       "flow_duration_nsec          0\n",
       "idle_timeout                0\n",
       "hard_timeout                0\n",
       "flags                       0\n",
       "packet_count                0\n",
       "byte_count                  0\n",
       "packet_count_per_second     0\n",
       "packet_count_per_nsecond    0\n",
       "byte_count_per_second       0\n",
       "byte_count_per_nsecond      0\n",
       "label                       0\n",
       "dtype: int64"
      ]
     },
     "execution_count": 6,
     "metadata": {},
     "output_type": "execute_result"
    }
   ],
   "source": [
    "df.isnull().sum()"
   ]
  },
  {
   "cell_type": "code",
   "execution_count": 7,
   "id": "0af67366",
   "metadata": {},
   "outputs": [
    {
     "data": {
      "text/plain": [
       "timestamp                   0.0\n",
       "datapath_id                 0.0\n",
       "flow_id                     0.0\n",
       "ip_src                      0.0\n",
       "tp_src                      0.0\n",
       "ip_dst                      0.0\n",
       "tp_dst                      0.0\n",
       "ip_proto                    0.0\n",
       "icmp_code                   0.0\n",
       "icmp_type                   0.0\n",
       "flow_duration_sec           0.0\n",
       "flow_duration_nsec          0.0\n",
       "idle_timeout                0.0\n",
       "hard_timeout                0.0\n",
       "flags                       0.0\n",
       "packet_count                0.0\n",
       "byte_count                  0.0\n",
       "packet_count_per_second     0.0\n",
       "packet_count_per_nsecond    0.0\n",
       "byte_count_per_second       0.0\n",
       "byte_count_per_nsecond      0.0\n",
       "label                       0.0\n",
       "dtype: float64"
      ]
     },
     "execution_count": 7,
     "metadata": {},
     "output_type": "execute_result"
    }
   ],
   "source": [
    "(df.isnull().sum()/df.isnull().count())*100"
   ]
  },
  {
   "cell_type": "markdown",
   "id": "fe62324e",
   "metadata": {},
   "source": [
    "#### Drop rows with null values"
   ]
  },
  {
   "cell_type": "code",
   "execution_count": 8,
   "id": "37b3ff55",
   "metadata": {},
   "outputs": [],
   "source": [
    "df.dropna(inplace=True)"
   ]
  },
  {
   "cell_type": "markdown",
   "id": "04529414",
   "metadata": {},
   "source": [
    "#### Info after handling Null Values"
   ]
  },
  {
   "cell_type": "code",
   "execution_count": 9,
   "id": "4d4768b8",
   "metadata": {},
   "outputs": [
    {
     "name": "stdout",
     "output_type": "stream",
     "text": [
      "timestamp                   0\n",
      "datapath_id                 0\n",
      "flow_id                     0\n",
      "ip_src                      0\n",
      "tp_src                      0\n",
      "ip_dst                      0\n",
      "tp_dst                      0\n",
      "ip_proto                    0\n",
      "icmp_code                   0\n",
      "icmp_type                   0\n",
      "flow_duration_sec           0\n",
      "flow_duration_nsec          0\n",
      "idle_timeout                0\n",
      "hard_timeout                0\n",
      "flags                       0\n",
      "packet_count                0\n",
      "byte_count                  0\n",
      "packet_count_per_second     0\n",
      "packet_count_per_nsecond    0\n",
      "byte_count_per_second       0\n",
      "byte_count_per_nsecond      0\n",
      "label                       0\n",
      "dtype: int64\n",
      "This Dataframe has 2667523 rows and 22 columns after removing null values\n"
     ]
    }
   ],
   "source": [
    "print(df.isnull().sum())\n",
    "print(\"This Dataframe has {} rows and {} columns after removing null values\".format(df.shape[0], df.shape[1]))"
   ]
  },
  {
   "cell_type": "markdown",
   "id": "27f22a5e",
   "metadata": {},
   "source": [
    "#### Distribution of Target Class"
   ]
  },
  {
   "cell_type": "code",
   "execution_count": 10,
   "id": "520822ef",
   "metadata": {},
   "outputs": [
    {
     "name": "stdout",
     "output_type": "stream",
     "text": [
      "Number of DDOS attacks that has occured : 66.0 %\n",
      "Number of DDOS attacks that has not occured : 34.0 %\n"
     ]
    }
   ],
   "source": [
    "malign = df[df['label'] == 1]\n",
    "benign = df[df['label'] == 0]\n",
    "\n",
    "print('Number of DDOS attacks that has occured :',round((len(malign)/df.shape[0])*100,2),'%')\n",
    "print('Number of DDOS attacks that has not occured :',round((len(benign)/df.shape[0])*100,2),'%')"
   ]
  },
  {
   "cell_type": "markdown",
   "id": "3a568cbe",
   "metadata": {},
   "source": [
    "#### Barplot of Target Class"
   ]
  },
  {
   "cell_type": "code",
   "execution_count": 11,
   "id": "dac12a8b",
   "metadata": {},
   "outputs": [
    {
     "data": {
      "text/plain": [
       "Text(0, 0.5, 'Frequency %')"
      ]
     },
     "execution_count": 11,
     "metadata": {},
     "output_type": "execute_result"
    },
    {
     "data": {
      "image/png": "[encoded data removed]",
      "text/plain": [
       "<Figure size 640x480 with 1 Axes>"
      ]
     },
     "metadata": {},
     "output_type": "display_data"
    }
   ],
   "source": [
    "# Let's plot the Label class against the Frequency\n",
    "labels = ['benign','malign']\n",
    "classes = pd.Series(labels).value_counts() / df['label'].count() *100\n",
    "#classes = pd.value_counts(df['label'], sort = True) / df['label'].count() *100\n",
    "classes.plot(kind = 'bar')\n",
    "plt.title(\"Label class distribution\")\n",
    "plt.xticks(range(2), labels)\n",
    "plt.xlabel(\"Label\")\n",
    "plt.ylabel(\"Frequency %\")"
   ]
  },
  {
   "cell_type": "markdown",
   "id": "dba10564",
   "metadata": {},
   "source": [
    "#### Columns in the dataset"
   ]
  },
  {
   "cell_type": "code",
   "execution_count": 12,
   "id": "f25a8cec",
   "metadata": {},
   "outputs": [
    {
     "data": {
      "text/plain": [
       "Index(['timestamp', 'datapath_id', 'flow_id', 'ip_src', 'tp_src', 'ip_dst',\n",
       "       'tp_dst', 'ip_proto', 'icmp_code', 'icmp_type', 'flow_duration_sec',\n",
       "       'flow_duration_nsec', 'idle_timeout', 'hard_timeout', 'flags',\n",
       "       'packet_count', 'byte_count', 'packet_count_per_second',\n",
       "       'packet_count_per_nsecond', 'byte_count_per_second',\n",
       "       'byte_count_per_nsecond', 'label'],\n",
       "      dtype='object')"
      ]
     },
     "execution_count": 12,
     "metadata": {},
     "output_type": "execute_result"
    }
   ],
   "source": [
    "df.columns"
   ]
  },
  {
   "cell_type": "markdown",
   "id": "01587f1e",
   "metadata": {},
   "source": [
    "#### Unique values in each column"
   ]
  },
  {
   "cell_type": "code",
   "execution_count": 13,
   "id": "94f63d7a",
   "metadata": {},
   "outputs": [
    {
     "name": "stdout",
     "output_type": "stream",
     "text": [
      "timestamp                   [1589932746.261578, 1589932746.262135, 1589932...\n",
      "datapath_id                                                [1, 2, 4, 3, 5, 6]\n",
      "flow_id                     [10.0.0.1505010.0.0.3542466, 10.0.0.35424610.0...\n",
      "ip_src                      [10.0.0.1, 10.0.0.3, 10.0.0.5, 10.0.0.10, 10.0...\n",
      "tp_src                      [5050, 54246, 0, 40223, 43804, 80, 5051, 45742...\n",
      "ip_dst                      [10.0.0.3, 10.0.0.1, 10.0.0.5, 10.0.0.10, 10.0...\n",
      "tp_dst                      [54246, 5050, 0, 5051, 43804, 45742, 45740, 40...\n",
      "ip_proto                                                           [6, 1, 17]\n",
      "icmp_code                                                             [-1, 0]\n",
      "icmp_type                                                          [-1, 8, 0]\n",
      "flow_duration_sec           [4, 14, 24, 34, 3, 44, 13, 54, 23, 64, 33, 74,...\n",
      "flow_duration_nsec          [480000000, 486000000, 484000000, 415000000, 4...\n",
      "idle_timeout                                                             [20]\n",
      "hard_timeout                                                            [100]\n",
      "flags                                                                     [0]\n",
      "packet_count                [50776, 209360, 3, 13, 139454, 596064, 333, 46...\n",
      "byte_count                  [3351216, 11834974848, 294, 1274, 9203964, 339...\n",
      "packet_count_per_second     [12694.0, 52340.0, 0.75, 0.9285714285714286, 9...\n",
      "packet_count_per_nsecond    [0.0001057833333333, 0.0004307818930041, 6.198...\n",
      "byte_count_per_second       [837804.0, 2958743712.0, 73.5, 91.0, 657426.0,...\n",
      "byte_count_per_nsecond      [0.0069817, 24.35180009876543, 6.0743801652892...\n",
      "label                                                                  [0, 1]\n",
      "dtype: object\n"
     ]
    }
   ],
   "source": [
    "print(df.apply(lambda col: col.unique()))"
   ]
  },
  {
   "cell_type": "markdown",
   "id": "549e0412",
   "metadata": {},
   "source": [
    "#### Numerical Features"
   ]
  },
  {
   "cell_type": "code",
   "execution_count": 14,
   "id": "791c661a",
   "metadata": {},
   "outputs": [
    {
     "name": "stdout",
     "output_type": "stream",
     "text": [
      "The number of numerical features is 19 and they are : \n",
      " ['timestamp', 'datapath_id', 'tp_src', 'tp_dst', 'ip_proto', 'icmp_code', 'icmp_type', 'flow_duration_sec', 'flow_duration_nsec', 'idle_timeout', 'hard_timeout', 'flags', 'packet_count', 'byte_count', 'packet_count_per_second', 'packet_count_per_nsecond', 'byte_count_per_second', 'byte_count_per_nsecond', 'label']\n"
     ]
    }
   ],
   "source": [
    "numerical_features = [feature for feature in df.columns if df[feature].dtypes != 'O']\n",
    "print(\"The number of numerical features is\",len(numerical_features),\"and they are : \\n\",numerical_features)"
   ]
  },
  {
   "cell_type": "markdown",
   "id": "6be4c029",
   "metadata": {},
   "source": [
    "#### Categorical Features"
   ]
  },
  {
   "cell_type": "code",
   "execution_count": 15,
   "id": "c35beed7",
   "metadata": {},
   "outputs": [
    {
     "name": "stdout",
     "output_type": "stream",
     "text": [
      "The number of categorical features is 3 and they are : \n",
      " ['flow_id', 'ip_src', 'ip_dst']\n"
     ]
    }
   ],
   "source": [
    "categorical_features = [feature for feature in df.columns if df[feature].dtypes == 'O']\n",
    "print(\"The number of categorical features is\",len(categorical_features),\"and they are : \\n\",categorical_features)"
   ]
  },
  {
   "cell_type": "markdown",
   "id": "3ec03f4e",
   "metadata": {},
   "source": [
    "#### Number of Unique values in the numerical features "
   ]
  },
  {
   "cell_type": "code",
   "execution_count": 16,
   "id": "5b11f185",
   "metadata": {},
   "outputs": [
    {
     "data": {
      "text/plain": [
       "timestamp                   117148\n",
       "datapath_id                      6\n",
       "tp_src                       61069\n",
       "tp_dst                       14662\n",
       "ip_proto                         3\n",
       "icmp_code                        2\n",
       "icmp_type                        3\n",
       "flow_duration_sec              101\n",
       "flow_duration_nsec            1000\n",
       "idle_timeout                     1\n",
       "hard_timeout                     1\n",
       "flags                            1\n",
       "packet_count                 46872\n",
       "byte_count                   66495\n",
       "packet_count_per_second      91090\n",
       "packet_count_per_nsecond    290464\n",
       "byte_count_per_second       108285\n",
       "byte_count_per_nsecond      310368\n",
       "label                            2\n",
       "dtype: int64"
      ]
     },
     "execution_count": 16,
     "metadata": {},
     "output_type": "execute_result"
    }
   ],
   "source": [
    "# number of unique values in each numerical variable\n",
    "df[numerical_features].nunique(axis=0)"
   ]
  },
  {
   "cell_type": "markdown",
   "id": "7678de8d",
   "metadata": {},
   "source": [
    "#### Discrete numerical features"
   ]
  },
  {
   "cell_type": "code",
   "execution_count": 17,
   "id": "2d5c3b9f",
   "metadata": {},
   "outputs": [
    {
     "name": "stdout",
     "output_type": "stream",
     "text": [
      "The number of discrete features is 7 and they are : \n",
      " ['datapath_id', 'ip_proto', 'icmp_code', 'icmp_type', 'idle_timeout', 'hard_timeout', 'flags']\n"
     ]
    }
   ],
   "source": [
    "#discrete numerical features \n",
    "discrete_feature = [feature for feature in numerical_features if df[feature].nunique()<=15 and feature != 'label']\n",
    "print(\"The number of discrete features is\",len(discrete_feature),\"and they are : \\n\",discrete_feature)"
   ]
  },
  {
   "cell_type": "code",
   "execution_count": 18,
   "id": "c5f83be3",
   "metadata": {},
   "outputs": [
    {
     "data": {
      "text/html": [
       "<div>\n",
       "<style scoped>\n",
       "    .dataframe tbody tr th:only-of-type {\n",
       "        vertical-align: middle;\n",
       "    }\n",
       "\n",
       "    .dataframe tbody tr th {\n",
       "        vertical-align: top;\n",
       "    }\n",
       "\n",
       "    .dataframe thead th {\n",
       "        text-align: right;\n",
       "    }\n",
       "</style>\n",
       "<table border=\"1\" class=\"dataframe\">\n",
       "  <thead>\n",
       "    <tr style=\"text-align: right;\">\n",
       "      <th></th>\n",
       "      <th>datapath_id</th>\n",
       "      <th>ip_proto</th>\n",
       "      <th>icmp_code</th>\n",
       "      <th>icmp_type</th>\n",
       "      <th>idle_timeout</th>\n",
       "      <th>hard_timeout</th>\n",
       "      <th>flags</th>\n",
       "    </tr>\n",
       "  </thead>\n",
       "  <tbody>\n",
       "    <tr>\n",
       "      <th>0</th>\n",
       "      <td>1</td>\n",
       "      <td>6</td>\n",
       "      <td>-1</td>\n",
       "      <td>-1</td>\n",
       "      <td>20</td>\n",
       "      <td>100</td>\n",
       "      <td>0</td>\n",
       "    </tr>\n",
       "    <tr>\n",
       "      <th>1</th>\n",
       "      <td>1</td>\n",
       "      <td>6</td>\n",
       "      <td>-1</td>\n",
       "      <td>-1</td>\n",
       "      <td>20</td>\n",
       "      <td>100</td>\n",
       "      <td>0</td>\n",
       "    </tr>\n",
       "    <tr>\n",
       "      <th>2</th>\n",
       "      <td>1</td>\n",
       "      <td>1</td>\n",
       "      <td>0</td>\n",
       "      <td>8</td>\n",
       "      <td>20</td>\n",
       "      <td>100</td>\n",
       "      <td>0</td>\n",
       "    </tr>\n",
       "    <tr>\n",
       "      <th>3</th>\n",
       "      <td>1</td>\n",
       "      <td>1</td>\n",
       "      <td>0</td>\n",
       "      <td>0</td>\n",
       "      <td>20</td>\n",
       "      <td>100</td>\n",
       "      <td>0</td>\n",
       "    </tr>\n",
       "    <tr>\n",
       "      <th>4</th>\n",
       "      <td>2</td>\n",
       "      <td>1</td>\n",
       "      <td>0</td>\n",
       "      <td>8</td>\n",
       "      <td>20</td>\n",
       "      <td>100</td>\n",
       "      <td>0</td>\n",
       "    </tr>\n",
       "    <tr>\n",
       "      <th>5</th>\n",
       "      <td>2</td>\n",
       "      <td>1</td>\n",
       "      <td>0</td>\n",
       "      <td>0</td>\n",
       "      <td>20</td>\n",
       "      <td>100</td>\n",
       "      <td>0</td>\n",
       "    </tr>\n",
       "    <tr>\n",
       "      <th>6</th>\n",
       "      <td>2</td>\n",
       "      <td>1</td>\n",
       "      <td>0</td>\n",
       "      <td>8</td>\n",
       "      <td>20</td>\n",
       "      <td>100</td>\n",
       "      <td>0</td>\n",
       "    </tr>\n",
       "    <tr>\n",
       "      <th>7</th>\n",
       "      <td>2</td>\n",
       "      <td>1</td>\n",
       "      <td>0</td>\n",
       "      <td>0</td>\n",
       "      <td>20</td>\n",
       "      <td>100</td>\n",
       "      <td>0</td>\n",
       "    </tr>\n",
       "    <tr>\n",
       "      <th>8</th>\n",
       "      <td>1</td>\n",
       "      <td>6</td>\n",
       "      <td>-1</td>\n",
       "      <td>-1</td>\n",
       "      <td>20</td>\n",
       "      <td>100</td>\n",
       "      <td>0</td>\n",
       "    </tr>\n",
       "    <tr>\n",
       "      <th>9</th>\n",
       "      <td>1</td>\n",
       "      <td>6</td>\n",
       "      <td>-1</td>\n",
       "      <td>-1</td>\n",
       "      <td>20</td>\n",
       "      <td>100</td>\n",
       "      <td>0</td>\n",
       "    </tr>\n",
       "  </tbody>\n",
       "</table>\n",
       "</div>"
      ],
      "text/plain": [
       "   datapath_id  ip_proto  icmp_code  icmp_type  idle_timeout  hard_timeout  \\\n",
       "0            1         6         -1         -1            20           100   \n",
       "1            1         6         -1         -1            20           100   \n",
       "2            1         1          0          8            20           100   \n",
       "3            1         1          0          0            20           100   \n",
       "4            2         1          0          8            20           100   \n",
       "5            2         1          0          0            20           100   \n",
       "6            2         1          0          8            20           100   \n",
       "7            2         1          0          0            20           100   \n",
       "8            1         6         -1         -1            20           100   \n",
       "9            1         6         -1         -1            20           100   \n",
       "\n",
       "   flags  \n",
       "0      0  \n",
       "1      0  \n",
       "2      0  \n",
       "3      0  \n",
       "4      0  \n",
       "5      0  \n",
       "6      0  \n",
       "7      0  \n",
       "8      0  \n",
       "9      0  "
      ]
     },
     "execution_count": 18,
     "metadata": {},
     "output_type": "execute_result"
    }
   ],
   "source": [
    "df[discrete_feature].head(10)"
   ]
  },
  {
   "cell_type": "markdown",
   "id": "18830683",
   "metadata": {},
   "source": [
    "#### Continuous features"
   ]
  },
  {
   "cell_type": "code",
   "execution_count": 19,
   "id": "5e333ca4",
   "metadata": {},
   "outputs": [
    {
     "name": "stdout",
     "output_type": "stream",
     "text": [
      "The number of continuous_feature features is 11 and they are : \n",
      " ['timestamp', 'tp_src', 'tp_dst', 'flow_duration_sec', 'flow_duration_nsec', 'packet_count', 'byte_count', 'packet_count_per_second', 'packet_count_per_nsecond', 'byte_count_per_second', 'byte_count_per_nsecond']\n"
     ]
    }
   ],
   "source": [
    "continuous_feature=[feature for feature in numerical_features if feature not in discrete_feature + ['label']]\n",
    "print(\"The number of continuous_feature features is\",len(continuous_feature),\"and they are : \\n\",continuous_feature)"
   ]
  },
  {
   "cell_type": "markdown",
   "id": "1f887052-b904-4e49-a32b-fadadb569a99",
   "metadata": {},
   "source": [
    "### Encoding categorical features"
   ]
  },
  {
   "cell_type": "code",
   "execution_count": 20,
   "id": "97c7853c-b171-4350-a65f-7f99ceaee4c4",
   "metadata": {},
   "outputs": [
    {
     "name": "stdout",
     "output_type": "stream",
     "text": [
      "This DataFrame has 2667523 rows and 22 columns after encoding\n"
     ]
    }
   ],
   "source": [
    "for col in categorical_features:\n",
    "    freq = df[col].value_counts() / len(df)\n",
    "    df[col + '_freq_encode'] = df[col].map(freq)\n",
    "    df.drop(columns=[col], inplace=True)\n",
    "\n",
    "print(\"This DataFrame has {} rows and {} columns after encoding\".format(df.shape[0], df.shape[1]))\n"
   ]
  },
  {
   "cell_type": "code",
   "execution_count": 21,
   "id": "4854c2c8-fda7-415c-9a4f-3617a4f8d322",
   "metadata": {},
   "outputs": [
    {
     "data": {
      "text/html": [
       "<div>\n",
       "<style scoped>\n",
       "    .dataframe tbody tr th:only-of-type {\n",
       "        vertical-align: middle;\n",
       "    }\n",
       "\n",
       "    .dataframe tbody tr th {\n",
       "        vertical-align: top;\n",
       "    }\n",
       "\n",
       "    .dataframe thead th {\n",
       "        text-align: right;\n",
       "    }\n",
       "</style>\n",
       "<table border=\"1\" class=\"dataframe\">\n",
       "  <thead>\n",
       "    <tr style=\"text-align: right;\">\n",
       "      <th></th>\n",
       "      <th>timestamp</th>\n",
       "      <th>datapath_id</th>\n",
       "      <th>tp_src</th>\n",
       "      <th>tp_dst</th>\n",
       "      <th>ip_proto</th>\n",
       "      <th>icmp_code</th>\n",
       "      <th>icmp_type</th>\n",
       "      <th>flow_duration_sec</th>\n",
       "      <th>flow_duration_nsec</th>\n",
       "      <th>idle_timeout</th>\n",
       "      <th>...</th>\n",
       "      <th>packet_count</th>\n",
       "      <th>byte_count</th>\n",
       "      <th>packet_count_per_second</th>\n",
       "      <th>packet_count_per_nsecond</th>\n",
       "      <th>byte_count_per_second</th>\n",
       "      <th>byte_count_per_nsecond</th>\n",
       "      <th>label</th>\n",
       "      <th>flow_id_freq_encode</th>\n",
       "      <th>ip_src_freq_encode</th>\n",
       "      <th>ip_dst_freq_encode</th>\n",
       "    </tr>\n",
       "  </thead>\n",
       "  <tbody>\n",
       "    <tr>\n",
       "      <th>0</th>\n",
       "      <td>1.589933e+09</td>\n",
       "      <td>1</td>\n",
       "      <td>5050</td>\n",
       "      <td>54246</td>\n",
       "      <td>6</td>\n",
       "      <td>-1</td>\n",
       "      <td>-1</td>\n",
       "      <td>4</td>\n",
       "      <td>480000000</td>\n",
       "      <td>20</td>\n",
       "      <td>...</td>\n",
       "      <td>50776</td>\n",
       "      <td>3351216</td>\n",
       "      <td>12694.000000</td>\n",
       "      <td>1.057833e-04</td>\n",
       "      <td>8.378040e+05</td>\n",
       "      <td>6.981700e-03</td>\n",
       "      <td>0</td>\n",
       "      <td>1.124639e-06</td>\n",
       "      <td>0.097633</td>\n",
       "      <td>0.106865</td>\n",
       "    </tr>\n",
       "    <tr>\n",
       "      <th>1</th>\n",
       "      <td>1.589933e+09</td>\n",
       "      <td>1</td>\n",
       "      <td>54246</td>\n",
       "      <td>5050</td>\n",
       "      <td>6</td>\n",
       "      <td>-1</td>\n",
       "      <td>-1</td>\n",
       "      <td>4</td>\n",
       "      <td>486000000</td>\n",
       "      <td>20</td>\n",
       "      <td>...</td>\n",
       "      <td>209360</td>\n",
       "      <td>11834974848</td>\n",
       "      <td>52340.000000</td>\n",
       "      <td>4.307819e-04</td>\n",
       "      <td>2.958744e+09</td>\n",
       "      <td>2.435180e+01</td>\n",
       "      <td>0</td>\n",
       "      <td>1.124639e-06</td>\n",
       "      <td>0.011276</td>\n",
       "      <td>0.430829</td>\n",
       "    </tr>\n",
       "    <tr>\n",
       "      <th>2</th>\n",
       "      <td>1.589933e+09</td>\n",
       "      <td>1</td>\n",
       "      <td>54246</td>\n",
       "      <td>5050</td>\n",
       "      <td>1</td>\n",
       "      <td>0</td>\n",
       "      <td>8</td>\n",
       "      <td>4</td>\n",
       "      <td>484000000</td>\n",
       "      <td>20</td>\n",
       "      <td>...</td>\n",
       "      <td>3</td>\n",
       "      <td>294</td>\n",
       "      <td>0.750000</td>\n",
       "      <td>6.198347e-09</td>\n",
       "      <td>7.350000e+01</td>\n",
       "      <td>6.074380e-07</td>\n",
       "      <td>0</td>\n",
       "      <td>3.748796e-07</td>\n",
       "      <td>0.011276</td>\n",
       "      <td>0.011881</td>\n",
       "    </tr>\n",
       "    <tr>\n",
       "      <th>3</th>\n",
       "      <td>1.589933e+09</td>\n",
       "      <td>1</td>\n",
       "      <td>54246</td>\n",
       "      <td>5050</td>\n",
       "      <td>1</td>\n",
       "      <td>0</td>\n",
       "      <td>0</td>\n",
       "      <td>4</td>\n",
       "      <td>415000000</td>\n",
       "      <td>20</td>\n",
       "      <td>...</td>\n",
       "      <td>3</td>\n",
       "      <td>294</td>\n",
       "      <td>0.750000</td>\n",
       "      <td>7.228916e-09</td>\n",
       "      <td>7.350000e+01</td>\n",
       "      <td>7.084337e-07</td>\n",
       "      <td>0</td>\n",
       "      <td>3.748796e-07</td>\n",
       "      <td>0.012208</td>\n",
       "      <td>0.106865</td>\n",
       "    </tr>\n",
       "    <tr>\n",
       "      <th>4</th>\n",
       "      <td>1.589933e+09</td>\n",
       "      <td>2</td>\n",
       "      <td>0</td>\n",
       "      <td>0</td>\n",
       "      <td>1</td>\n",
       "      <td>0</td>\n",
       "      <td>8</td>\n",
       "      <td>4</td>\n",
       "      <td>423000000</td>\n",
       "      <td>20</td>\n",
       "      <td>...</td>\n",
       "      <td>3</td>\n",
       "      <td>294</td>\n",
       "      <td>0.750000</td>\n",
       "      <td>7.092199e-09</td>\n",
       "      <td>7.350000e+01</td>\n",
       "      <td>6.950355e-07</td>\n",
       "      <td>0</td>\n",
       "      <td>7.422616e-05</td>\n",
       "      <td>0.011276</td>\n",
       "      <td>0.011881</td>\n",
       "    </tr>\n",
       "    <tr>\n",
       "      <th>5</th>\n",
       "      <td>1.589933e+09</td>\n",
       "      <td>2</td>\n",
       "      <td>0</td>\n",
       "      <td>0</td>\n",
       "      <td>1</td>\n",
       "      <td>0</td>\n",
       "      <td>0</td>\n",
       "      <td>4</td>\n",
       "      <td>417000000</td>\n",
       "      <td>20</td>\n",
       "      <td>...</td>\n",
       "      <td>3</td>\n",
       "      <td>294</td>\n",
       "      <td>0.750000</td>\n",
       "      <td>7.194245e-09</td>\n",
       "      <td>7.350000e+01</td>\n",
       "      <td>7.050360e-07</td>\n",
       "      <td>0</td>\n",
       "      <td>7.422616e-05</td>\n",
       "      <td>0.012208</td>\n",
       "      <td>0.106865</td>\n",
       "    </tr>\n",
       "    <tr>\n",
       "      <th>6</th>\n",
       "      <td>1.589933e+09</td>\n",
       "      <td>2</td>\n",
       "      <td>0</td>\n",
       "      <td>0</td>\n",
       "      <td>1</td>\n",
       "      <td>0</td>\n",
       "      <td>8</td>\n",
       "      <td>14</td>\n",
       "      <td>429000000</td>\n",
       "      <td>20</td>\n",
       "      <td>...</td>\n",
       "      <td>13</td>\n",
       "      <td>1274</td>\n",
       "      <td>0.928571</td>\n",
       "      <td>3.030303e-08</td>\n",
       "      <td>9.100000e+01</td>\n",
       "      <td>2.969697e-06</td>\n",
       "      <td>0</td>\n",
       "      <td>7.422616e-05</td>\n",
       "      <td>0.011276</td>\n",
       "      <td>0.011881</td>\n",
       "    </tr>\n",
       "    <tr>\n",
       "      <th>7</th>\n",
       "      <td>1.589933e+09</td>\n",
       "      <td>2</td>\n",
       "      <td>0</td>\n",
       "      <td>0</td>\n",
       "      <td>1</td>\n",
       "      <td>0</td>\n",
       "      <td>0</td>\n",
       "      <td>14</td>\n",
       "      <td>423000000</td>\n",
       "      <td>20</td>\n",
       "      <td>...</td>\n",
       "      <td>13</td>\n",
       "      <td>1274</td>\n",
       "      <td>0.928571</td>\n",
       "      <td>3.073286e-08</td>\n",
       "      <td>9.100000e+01</td>\n",
       "      <td>3.011820e-06</td>\n",
       "      <td>0</td>\n",
       "      <td>7.422616e-05</td>\n",
       "      <td>0.012208</td>\n",
       "      <td>0.106865</td>\n",
       "    </tr>\n",
       "    <tr>\n",
       "      <th>8</th>\n",
       "      <td>1.589933e+09</td>\n",
       "      <td>1</td>\n",
       "      <td>5050</td>\n",
       "      <td>54246</td>\n",
       "      <td>6</td>\n",
       "      <td>-1</td>\n",
       "      <td>-1</td>\n",
       "      <td>14</td>\n",
       "      <td>486000000</td>\n",
       "      <td>20</td>\n",
       "      <td>...</td>\n",
       "      <td>139454</td>\n",
       "      <td>9203964</td>\n",
       "      <td>9961.000000</td>\n",
       "      <td>2.869424e-04</td>\n",
       "      <td>6.574260e+05</td>\n",
       "      <td>1.893820e-02</td>\n",
       "      <td>0</td>\n",
       "      <td>1.124639e-06</td>\n",
       "      <td>0.097633</td>\n",
       "      <td>0.106865</td>\n",
       "    </tr>\n",
       "    <tr>\n",
       "      <th>9</th>\n",
       "      <td>1.589933e+09</td>\n",
       "      <td>1</td>\n",
       "      <td>54246</td>\n",
       "      <td>5050</td>\n",
       "      <td>6</td>\n",
       "      <td>-1</td>\n",
       "      <td>-1</td>\n",
       "      <td>14</td>\n",
       "      <td>492000000</td>\n",
       "      <td>20</td>\n",
       "      <td>...</td>\n",
       "      <td>596064</td>\n",
       "      <td>33916209400</td>\n",
       "      <td>42576.000000</td>\n",
       "      <td>1.211512e-03</td>\n",
       "      <td>2.422586e+09</td>\n",
       "      <td>6.893538e+01</td>\n",
       "      <td>0</td>\n",
       "      <td>1.124639e-06</td>\n",
       "      <td>0.011276</td>\n",
       "      <td>0.430829</td>\n",
       "    </tr>\n",
       "  </tbody>\n",
       "</table>\n",
       "<p>10 rows × 22 columns</p>\n",
       "</div>"
      ],
      "text/plain": [
       "      timestamp  datapath_id  tp_src  tp_dst  ip_proto  icmp_code  icmp_type  \\\n",
       "0  1.589933e+09            1    5050   54246         6         -1         -1   \n",
       "1  1.589933e+09            1   54246    5050         6         -1         -1   \n",
       "2  1.589933e+09            1   54246    5050         1          0          8   \n",
       "3  1.589933e+09            1   54246    5050         1          0          0   \n",
       "4  1.589933e+09            2       0       0         1          0          8   \n",
       "5  1.589933e+09            2       0       0         1          0          0   \n",
       "6  1.589933e+09            2       0       0         1          0          8   \n",
       "7  1.589933e+09            2       0       0         1          0          0   \n",
       "8  1.589933e+09            1    5050   54246         6         -1         -1   \n",
       "9  1.589933e+09            1   54246    5050         6         -1         -1   \n",
       "\n",
       "   flow_duration_sec  flow_duration_nsec  idle_timeout  ...  packet_count  \\\n",
       "0                  4           480000000            20  ...         50776   \n",
       "1                  4           486000000            20  ...        209360   \n",
       "2                  4           484000000            20  ...             3   \n",
       "3                  4           415000000            20  ...             3   \n",
       "4                  4           423000000            20  ...             3   \n",
       "5                  4           417000000            20  ...             3   \n",
       "6                 14           429000000            20  ...            13   \n",
       "7                 14           423000000            20  ...            13   \n",
       "8                 14           486000000            20  ...        139454   \n",
       "9                 14           492000000            20  ...        596064   \n",
       "\n",
       "    byte_count  packet_count_per_second  packet_count_per_nsecond  \\\n",
       "0      3351216             12694.000000              1.057833e-04   \n",
       "1  11834974848             52340.000000              4.307819e-04   \n",
       "2          294                 0.750000              6.198347e-09   \n",
       "3          294                 0.750000              7.228916e-09   \n",
       "4          294                 0.750000              7.092199e-09   \n",
       "5          294                 0.750000              7.194245e-09   \n",
       "6         1274                 0.928571              3.030303e-08   \n",
       "7         1274                 0.928571              3.073286e-08   \n",
       "8      9203964              9961.000000              2.869424e-04   \n",
       "9  33916209400             42576.000000              1.211512e-03   \n",
       "\n",
       "   byte_count_per_second  byte_count_per_nsecond  label  flow_id_freq_encode  \\\n",
       "0           8.378040e+05            6.981700e-03      0         1.124639e-06   \n",
       "1           2.958744e+09            2.435180e+01      0         1.124639e-06   \n",
       "2           7.350000e+01            6.074380e-07      0         3.748796e-07   \n",
       "3           7.350000e+01            7.084337e-07      0         3.748796e-07   \n",
       "4           7.350000e+01            6.950355e-07      0         7.422616e-05   \n",
       "5           7.350000e+01            7.050360e-07      0         7.422616e-05   \n",
       "6           9.100000e+01            2.969697e-06      0         7.422616e-05   \n",
       "7           9.100000e+01            3.011820e-06      0         7.422616e-05   \n",
       "8           6.574260e+05            1.893820e-02      0         1.124639e-06   \n",
       "9           2.422586e+09            6.893538e+01      0         1.124639e-06   \n",
       "\n",
       "   ip_src_freq_encode  ip_dst_freq_encode  \n",
       "0            0.097633            0.106865  \n",
       "1            0.011276            0.430829  \n",
       "2            0.011276            0.011881  \n",
       "3            0.012208            0.106865  \n",
       "4            0.011276            0.011881  \n",
       "5            0.012208            0.106865  \n",
       "6            0.011276            0.011881  \n",
       "7            0.012208            0.106865  \n",
       "8            0.097633            0.106865  \n",
       "9            0.011276            0.430829  \n",
       "\n",
       "[10 rows x 22 columns]"
      ]
     },
     "execution_count": 21,
     "metadata": {},
     "output_type": "execute_result"
    }
   ],
   "source": [
    "#dataframe after encoding\n",
    "df.head(10)"
   ]
  },
  {
   "cell_type": "code",
   "execution_count": 22,
   "id": "004f115c-7f9a-4cf0-8062-eb3f69c76ea3",
   "metadata": {},
   "outputs": [
    {
     "data": {
      "text/plain": [
       "timestamp                   float64\n",
       "datapath_id                   int64\n",
       "tp_src                        int64\n",
       "tp_dst                        int64\n",
       "ip_proto                      int64\n",
       "icmp_code                     int64\n",
       "icmp_type                     int64\n",
       "flow_duration_sec             int64\n",
       "flow_duration_nsec            int64\n",
       "idle_timeout                  int64\n",
       "hard_timeout                  int64\n",
       "flags                         int64\n",
       "packet_count                  int64\n",
       "byte_count                    int64\n",
       "packet_count_per_second     float64\n",
       "packet_count_per_nsecond    float64\n",
       "byte_count_per_second       float64\n",
       "byte_count_per_nsecond      float64\n",
       "label                         int64\n",
       "flow_id_freq_encode         float64\n",
       "ip_src_freq_encode          float64\n",
       "ip_dst_freq_encode          float64\n",
       "dtype: object"
      ]
     },
     "execution_count": 22,
     "metadata": {},
     "output_type": "execute_result"
    }
   ],
   "source": [
    "df.dtypes"
   ]
  },
  {
   "cell_type": "markdown",
   "id": "a380375d-c365-4a13-9307-ea3703436bb2",
   "metadata": {},
   "source": [
    "### Split into Independent and dependent variables"
   ]
  },
  {
   "cell_type": "code",
   "execution_count": 23,
   "id": "8e438dc0-6db9-4a81-83f1-fcf9aa10bb7b",
   "metadata": {},
   "outputs": [],
   "source": [
    "#separating input and output attributes\n",
    "x = df.drop(['label'], axis=1)\n",
    "y = df['label']"
   ]
  },
  {
   "cell_type": "markdown",
   "id": "64b57213-6320-476a-8abc-97b89c61f96a",
   "metadata": {},
   "source": [
    "### Normalizing features"
   ]
  },
  {
   "cell_type": "code",
   "execution_count": 24,
   "id": "91407c0d-0f91-429a-b876-e4ca13e1503e",
   "metadata": {},
   "outputs": [],
   "source": [
    "ms = MinMaxScaler()\n",
    "x = ms.fit_transform(x)"
   ]
  },
  {
   "cell_type": "markdown",
   "id": "a50fcc7e",
   "metadata": {},
   "source": [
    "### Train-Test-Split [70-30]"
   ]
  },
  {
   "cell_type": "code",
   "execution_count": 25,
   "id": "1920d424",
   "metadata": {},
   "outputs": [
    {
     "name": "stdout",
     "output_type": "stream",
     "text": [
      "(1867266, 21) (800257, 21)\n"
     ]
    }
   ],
   "source": [
    "X_train, X_test, y_train, y_test = train_test_split(x, y,test_size=0.3)\n",
    "print(X_train.shape, X_test.shape)"
   ]
  },
  {
   "cell_type": "markdown",
   "id": "03ecae0a",
   "metadata": {},
   "source": [
    "## BASELINE CLASSIFIERS\n",
    "1. RF\n",
    "2. KNN\n",
    "3. Decision tree\n",
    "4. Naive Bayes\n",
    "5. Logistic Regression\n"
   ]
  },
  {
   "cell_type": "code",
   "execution_count": 26,
   "id": "90050313",
   "metadata": {},
   "outputs": [],
   "source": [
    "Classifier_accuracy = []"
   ]
  },
  {
   "cell_type": "markdown",
   "id": "567d841a",
   "metadata": {},
   "source": [
    "## Model Evaluation "
   ]
  },
  {
   "cell_type": "markdown",
   "id": "10827459-ccf2-4651-a919-bee5d8c76f83",
   "metadata": {},
   "source": [
    "#### Random Forest Classifier"
   ]
  },
  {
   "cell_type": "code",
   "execution_count": 27,
   "id": "289ed627-cc4f-4398-8132-bf0da20ced61",
   "metadata": {},
   "outputs": [
    {
     "name": "stdout",
     "output_type": "stream",
     "text": [
      "Accuracy of RF Classifier : 100.00\n"
     ]
    }
   ],
   "source": [
    "rf_clf = RandomForestClassifier()\n",
    "rf_clf.fit(X_train, y_train)\n",
    "y_pred = rf_clf.predict(X_test)\n",
    "accuracy = metrics.accuracy_score(y_test, y_pred)\n",
    "Classifier_accuracy.append(accuracy*100)\n",
    "print(\"Accuracy of RF Classifier : %.2f\" % (accuracy*100))"
   ]
  },
  {
   "cell_type": "markdown",
   "id": "d88dd41c",
   "metadata": {},
   "source": [
    "#### K-Nearest Neighbor Classifier"
   ]
  },
  {
   "cell_type": "code",
   "execution_count": 28,
   "id": "2c3ce023",
   "metadata": {},
   "outputs": [
    {
     "name": "stdout",
     "output_type": "stream",
     "text": [
      "Accuracy of KNN Classifier : 100.00\n"
     ]
    }
   ],
   "source": [
    "knn_clf = KNeighborsClassifier()\n",
    "knn_clf.fit(X_train, y_train)\n",
    "y_pred = knn_clf.predict(X_test)\n",
    "accuracy = metrics.accuracy_score(y_test, y_pred)\n",
    "Classifier_accuracy.append(accuracy*100)\n",
    "print(\"Accuracy of KNN Classifier : %.2f\" % (accuracy*100))"
   ]
  },
  {
   "cell_type": "markdown",
   "id": "a75661ce",
   "metadata": {},
   "source": [
    "#### Decision Tree Classifier"
   ]
  },
  {
   "cell_type": "code",
   "execution_count": 29,
   "id": "aef7849b",
   "metadata": {},
   "outputs": [
    {
     "name": "stdout",
     "output_type": "stream",
     "text": [
      "Accuracy of Decision Tree Classifier : 100.00\n"
     ]
    }
   ],
   "source": [
    "dt_clf = DecisionTreeClassifier(max_depth=5)\n",
    "dt_clf.fit(X_train,y_train)\n",
    "y_pred = dt_clf.predict(X_test)\n",
    "accuracy = metrics.accuracy_score(y_test, y_pred)\n",
    "Classifier_accuracy.append(accuracy*100)\n",
    "print(\"Accuracy of Decision Tree Classifier : %.2f\" % (accuracy*100) )"
   ]
  },
  {
   "cell_type": "markdown",
   "id": "6a1a4c06",
   "metadata": {},
   "source": [
    "#### Naive Bayes Classifier"
   ]
  },
  {
   "cell_type": "code",
   "execution_count": 30,
   "id": "6fa51443",
   "metadata": {},
   "outputs": [
    {
     "name": "stdout",
     "output_type": "stream",
     "text": [
      "Accuracy of Naive Bayes Classifier : 100.00\n"
     ]
    }
   ],
   "source": [
    "nb_clf = GaussianNB()\n",
    "nb_clf.fit(X_train,y_train)\n",
    "y_pred = nb_clf.predict(X_test)\n",
    "accuracy = metrics.accuracy_score(y_test, y_pred)\n",
    "Classifier_accuracy.append(accuracy*100)\n",
    "print(\"Accuracy of Naive Bayes Classifier : %.2f\" % (accuracy*100) )"
   ]
  },
  {
   "cell_type": "markdown",
   "id": "566f9480",
   "metadata": {},
   "source": [
    "#### Logistic Regression "
   ]
  },
  {
   "cell_type": "code",
   "execution_count": 31,
   "id": "5c3bd7d5",
   "metadata": {},
   "outputs": [
    {
     "name": "stdout",
     "output_type": "stream",
     "text": [
      "Accuracy of Logistic Regression Classifier : 100.00\n"
     ]
    }
   ],
   "source": [
    "lr_clf = LogisticRegression()\n",
    "lr_clf.fit(X_train,y_train)\n",
    "y_pred=lr_clf.predict(X_test)\n",
    "accuracy = metrics.accuracy_score(y_test, y_pred)\n",
    "Classifier_accuracy.append(accuracy*100)\n",
    "print(\"Accuracy of Logistic Regression Classifier : %.2f\" % (accuracy*100))"
   ]
  },
  {
   "cell_type": "markdown",
   "id": "9a344990",
   "metadata": {},
   "source": [
    "### Comparitive analysis of models"
   ]
  },
  {
   "cell_type": "code",
   "execution_count": 32,
   "id": "3dc6ebda",
   "metadata": {},
   "outputs": [],
   "source": [
    "Classifier_names = [\"RF\", \"KNN\", \"Decision Tree\",\"Naive Bayes\",\"Logistic Regression\"]"
   ]
  },
  {
   "cell_type": "code",
   "execution_count": 33,
   "id": "dba59ed6",
   "metadata": {},
   "outputs": [
    {
     "data": {
      "text/html": [
       "<div>\n",
       "<style scoped>\n",
       "    .dataframe tbody tr th:only-of-type {\n",
       "        vertical-align: middle;\n",
       "    }\n",
       "\n",
       "    .dataframe tbody tr th {\n",
       "        vertical-align: top;\n",
       "    }\n",
       "\n",
       "    .dataframe thead th {\n",
       "        text-align: right;\n",
       "    }\n",
       "</style>\n",
       "<table border=\"1\" class=\"dataframe\">\n",
       "  <thead>\n",
       "    <tr style=\"text-align: right;\">\n",
       "      <th></th>\n",
       "      <th>name</th>\n",
       "      <th>Accuracy</th>\n",
       "    </tr>\n",
       "  </thead>\n",
       "  <tbody>\n",
       "    <tr>\n",
       "      <th>0</th>\n",
       "      <td>RF</td>\n",
       "      <td>100.000000</td>\n",
       "    </tr>\n",
       "    <tr>\n",
       "      <th>2</th>\n",
       "      <td>Decision Tree</td>\n",
       "      <td>99.999875</td>\n",
       "    </tr>\n",
       "    <tr>\n",
       "      <th>1</th>\n",
       "      <td>KNN</td>\n",
       "      <td>99.999625</td>\n",
       "    </tr>\n",
       "    <tr>\n",
       "      <th>3</th>\n",
       "      <td>Naive Bayes</td>\n",
       "      <td>99.999125</td>\n",
       "    </tr>\n",
       "    <tr>\n",
       "      <th>4</th>\n",
       "      <td>Logistic Regression</td>\n",
       "      <td>99.996001</td>\n",
       "    </tr>\n",
       "  </tbody>\n",
       "</table>\n",
       "</div>"
      ],
      "text/plain": [
       "                  name    Accuracy\n",
       "0                   RF  100.000000\n",
       "2        Decision Tree   99.999875\n",
       "1                  KNN   99.999625\n",
       "3          Naive Bayes   99.999125\n",
       "4  Logistic Regression   99.996001"
      ]
     },
     "execution_count": 33,
     "metadata": {},
     "output_type": "execute_result"
    }
   ],
   "source": [
    "df_clf = pd.DataFrame()\n",
    "df_clf['name'] = Classifier_names\n",
    "df_clf['Accuracy'] = Classifier_accuracy\n",
    "df_clf = df_clf.sort_values(by=['Accuracy'], ascending=False)\n",
    "df_clf.head(10)"
   ]
  },
  {
   "cell_type": "markdown",
   "id": "b9b40ca9",
   "metadata": {},
   "source": [
    "#### Visualize accuracies of the models"
   ]
  },
  {
   "cell_type": "code",
   "execution_count": 34,
   "id": "3cd5e17b",
   "metadata": {},
   "outputs": [
    {
     "data": {
      "image/png": "[encoded data removed]",
      "text/plain": [
       "<Figure size 700x700 with 1 Axes>"
      ]
     },
     "metadata": {},
     "output_type": "display_data"
    }
   ],
   "source": [
    "sns.set(style=\"whitegrid\",rc={'figure.figsize':(7,7)})\n",
    "ax = sns.barplot(y=\"name\", x=\"Accuracy\", data=df_clf)"
   ]
  },
  {
   "cell_type": "code",
   "execution_count": 35,
   "id": "4d446cfe",
   "metadata": {},
   "outputs": [
    {
     "name": "stdout",
     "output_type": "stream",
     "text": [
      "The best baseline Classifier is RF with an accuracy of 100.0.\n"
     ]
    }
   ],
   "source": [
    "print(f\"The best baseline Classifier is {df_clf.name[0]} with an accuracy of {df_clf.Accuracy[0]}.\")"
   ]
  },
  {
   "cell_type": "markdown",
   "id": "6ee19e66",
   "metadata": {},
   "source": [
    "## Making Sample Predictions "
   ]
  },
  {
   "cell_type": "code",
   "execution_count": 36,
   "id": "02ade8e7",
   "metadata": {},
   "outputs": [
    {
     "name": "stdout",
     "output_type": "stream",
     "text": [
      "[1 1 0 ... 1 1 1]\n"
     ]
    }
   ],
   "source": [
    "classes = rf_clf.predict(X_test)\n",
    "print(classes)"
   ]
  },
  {
   "cell_type": "code",
   "execution_count": 37,
   "id": "31e7965b",
   "metadata": {},
   "outputs": [],
   "source": [
    "y_pred = []\n",
    "for i in classes:\n",
    "    if i > 0.5:\n",
    "        y_pred.append(1)\n",
    "    else:\n",
    "        y_pred.append(0)"
   ]
  },
  {
   "cell_type": "code",
   "execution_count": 38,
   "id": "71434810",
   "metadata": {},
   "outputs": [
    {
     "data": {
      "text/plain": [
       "[1, 1, 0, 0, 1, 0, 1, 1, 1, 1, 0, 1, 1, 0, 0, 1, 1, 1, 0, 1]"
      ]
     },
     "execution_count": 38,
     "metadata": {},
     "output_type": "execute_result"
    }
   ],
   "source": [
    "y_pred[:20]"
   ]
  },
  {
   "cell_type": "code",
   "execution_count": 39,
   "id": "874a8a0e",
   "metadata": {},
   "outputs": [
    {
     "data": {
      "text/plain": [
       "288517     1\n",
       "987477     1\n",
       "2479246    0\n",
       "818304     0\n",
       "449016     1\n",
       "56418      0\n",
       "680417     1\n",
       "2004962    1\n",
       "319804     1\n",
       "1402261    1\n",
       "2355676    0\n",
       "1518042    1\n",
       "421644     1\n",
       "2626323    0\n",
       "1876405    0\n",
       "277103     1\n",
       "1544640    1\n",
       "1027354    1\n",
       "92470      0\n",
       "2106965    1\n",
       "Name: label, dtype: int64"
      ]
     },
     "execution_count": 39,
     "metadata": {},
     "output_type": "execute_result"
    }
   ],
   "source": [
    "y_test[:20]"
   ]
  },
  {
   "cell_type": "markdown",
   "id": "617c1e3d",
   "metadata": {},
   "source": [
    "## Classification Report "
   ]
  },
  {
   "cell_type": "code",
   "execution_count": 40,
   "id": "28d012ca",
   "metadata": {},
   "outputs": [
    {
     "name": "stdout",
     "output_type": "stream",
     "text": [
      "              precision    recall  f1-score   support\n",
      "\n",
      "      benign       1.00      1.00      1.00    272304\n",
      "      malign       1.00      1.00      1.00    527953\n",
      "\n",
      "    accuracy                           1.00    800257\n",
      "   macro avg       1.00      1.00      1.00    800257\n",
      "weighted avg       1.00      1.00      1.00    800257\n",
      "\n"
     ]
    }
   ],
   "source": [
    "print(classification_report(y_test, y_pred, target_names = labels))"
   ]
  },
  {
   "cell_type": "markdown",
   "id": "71c92fcb",
   "metadata": {},
   "source": [
    "## Plotting Confusion Matrix"
   ]
  },
  {
   "cell_type": "code",
   "execution_count": 41,
   "id": "8b59f221",
   "metadata": {},
   "outputs": [],
   "source": [
    "from itertools import product\n",
    "def plot_confusion_matrix(cm, classes, normalize=True, title='Confusion matrix', cmap=plt.cm.Blues):\n",
    "    plt.figure(figsize=(10,10))\n",
    "    plt.grid(False)\n",
    "    plt.imshow(cm, interpolation='nearest', cmap=cmap)\n",
    "    plt.title(title)\n",
    "    plt.colorbar()\n",
    "    tick_marks = np.arange(len(classes))\n",
    "    plt.xticks(tick_marks, classes, rotation=45)\n",
    "    plt.yticks(tick_marks, classes)\n",
    "    cm1 = cm\n",
    "    if normalize:\n",
    "        cm = cm.astype('float') / cm.sum(axis=1)[:, np.newaxis]\n",
    "        cm = np.around(cm, decimals=2)\n",
    "        cm[np.isnan(cm)] \n",
    "        thresh = cm.max() / 2.\n",
    "    for i, j in product(range(cm.shape[0]), range(cm.shape[1])):\n",
    "        plt.text(j, i, str(cm1[i, j])+ \" (\"+ str(cm[i, j]*100)+\"%)\",\n",
    "                 horizontalalignment=\"center\",\n",
    "                 color=\"white\" if cm[i, j] > thresh else \"black\")\n",
    "    plt.tight_layout()\n",
    "    plt.ylabel('True label')\n",
    "    plt.xlabel('Predicted label')"
   ]
  },
  {
   "cell_type": "code",
   "execution_count": 42,
   "id": "82b2dff4",
   "metadata": {},
   "outputs": [
    {
     "data": {
      "image/png": "[encoded data removed]",
      "text/plain": [
       "<Figure size 1000x1000 with 2 Axes>"
      ]
     },
     "metadata": {},
     "output_type": "display_data"
    }
   ],
   "source": [
    "confusion_mtx = confusion_matrix(y_test, y_pred) \n",
    "plot_confusion_matrix(confusion_mtx, classes = labels)"
   ]
  }
 ],
 "metadata": {
  "kernelspec": {
   "display_name": "Python 3 (ipykernel)",
   "language": "python",
   "name": "python3"
  },
  "language_info": {
   "codemirror_mode": {
    "name": "ipython",
    "version": 3
   },
   "file_extension": ".py",
   "mimetype": "text/x-python",
   "name": "python",
   "nbconvert_exporter": "python",
   "pygments_lexer": "ipython3",
   "version": "3.11.4"
  }
 },
 "nbformat": 4,
 "nbformat_minor": 5
}
